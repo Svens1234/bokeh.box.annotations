{
 "cells": [
  {
   "cell_type": "code",
   "execution_count": 1,
   "id": "a3151d5b",
   "metadata": {},
   "outputs": [],
   "source": [
    "import random"
   ]
  },
  {
   "cell_type": "code",
   "execution_count": 2,
   "id": "1a045fb3",
   "metadata": {},
   "outputs": [],
   "source": [
    "from bokeh.models import BoxAnnotation\n",
    "from bokeh.plotting import figure, show"
   ]
  },
  {
   "cell_type": "code",
   "execution_count": 3,
   "id": "daff1122",
   "metadata": {},
   "outputs": [],
   "source": [
    "x = list(range(0, 51))\n",
    "y = random.sample(range(0, 100), 51)"
   ]
  },
  {
   "cell_type": "code",
   "execution_count": 4,
   "id": "30504772",
   "metadata": {},
   "outputs": [],
   "source": [
    "p = figure(title=\"Box annotation example\")"
   ]
  },
  {
   "cell_type": "code",
   "execution_count": 5,
   "id": "c70afe10",
   "metadata": {},
   "outputs": [],
   "source": [
    "line = p.line(x, y, line_color=\"#000000\", line_width=2)"
   ]
  },
  {
   "cell_type": "code",
   "execution_count": 6,
   "id": "1be07e3e",
   "metadata": {},
   "outputs": [],
   "source": [
    "low_box = BoxAnnotation(top=20, fill_alpha=0.2, fill_color=\"#F0E442\")\n",
    "mid_box = BoxAnnotation(bottom=20, top=80, fill_alpha=0.2, fill_color=\"#009E73\")\n",
    "high_box = BoxAnnotation(bottom=80, fill_alpha=0.2, fill_color=\"#F0E442\")"
   ]
  },
  {
   "cell_type": "code",
   "execution_count": 7,
   "id": "10176990",
   "metadata": {},
   "outputs": [],
   "source": [
    "p.add_layout(low_box)\n",
    "p.add_layout(mid_box)\n",
    "p.add_layout(high_box)"
   ]
  },
  {
   "cell_type": "code",
   "execution_count": 8,
   "id": "a6b6b29a",
   "metadata": {},
   "outputs": [],
   "source": [
    "show(p)"
   ]
  },
  {
   "cell_type": "code",
   "execution_count": null,
   "id": "19713bc1",
   "metadata": {},
   "outputs": [],
   "source": []
  }
 ],
 "metadata": {
  "kernelspec": {
   "display_name": "Python 3 (ipykernel)",
   "language": "python",
   "name": "python3"
  },
  "language_info": {
   "codemirror_mode": {
    "name": "ipython",
    "version": 3
   },
   "file_extension": ".py",
   "mimetype": "text/x-python",
   "name": "python",
   "nbconvert_exporter": "python",
   "pygments_lexer": "ipython3",
   "version": "3.8.7"
  }
 },
 "nbformat": 4,
 "nbformat_minor": 5
}
